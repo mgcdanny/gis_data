{
 "metadata": {
  "name": "doc_scraper"
 }, 
 "nbformat": 2, 
 "worksheets": [
  {
   "cells": [
    {
     "cell_type": "code", 
     "collapsed": true, 
     "input": [
      "import os", 
      "import urllib", 
      "import pymongo", 
      "import pandas as pd"
     ], 
     "language": "python", 
     "outputs": [], 
     "prompt_number": 39
    }, 
    {
     "cell_type": "code", 
     "collapsed": true, 
     "input": [
      "doc_file = \"../csv/docs_links.csv\"", 
      "df = pd.read_csv(doc_file)"
     ], 
     "language": "python", 
     "outputs": [], 
     "prompt_number": 3
    }, 
    {
     "cell_type": "code", 
     "collapsed": true, 
     "input": [
      "def split_bytes(value, divider, position):", 
      "    try:", 
      "        return value.split(divider)[position]", 
      "    except:", 
      "        return value"
     ], 
     "language": "python", 
     "outputs": [], 
     "prompt_number": 4
    }, 
    {
     "cell_type": "code", 
     "collapsed": true, 
     "input": [
      "df['ext_down'] =  df.downloads.apply(lambda x: split_bytes(x, 'bytes/', 1))"
     ], 
     "language": "python", 
     "outputs": [], 
     "prompt_number": 5
    }, 
    {
     "cell_type": "code", 
     "collapsed": true, 
     "input": [
      "df['ext_doc'] = df.documentation\\", 
      ".apply(lambda x: split_bytes(x, 'bytes/', 1))\\", 
      ".apply(lambda x: split_bytes(x, '_metadata', 0))\\", 
      ".apply(lambda x: split_bytes(x, '.pdf', 0))"
     ], 
     "language": "python", 
     "outputs": [], 
     "prompt_number": 6
    }, 
    {
     "cell_type": "code", 
     "collapsed": false, 
     "input": [
      "doc_links = df[[\"documentation\",\"ext_doc\"]].dropna()"
     ], 
     "language": "python", 
     "outputs": [], 
     "prompt_number": 13
    }, 
    {
     "cell_type": "code", 
     "collapsed": true, 
     "input": [
      "c = pymongo.MongoClient('10.154.58.98',27017)", 
      "db = c['gis']", 
      "collection = db['docs']"
     ], 
     "language": "python", 
     "outputs": [], 
     "prompt_number": 60
    }, 
    {
     "cell_type": "code", 
     "collapsed": false, 
     "input": [
      "for index, row in doc_links.iterrows():", 
      "    try:", 
      "        doc_link = row['documentation']", 
      "        save_pdf = \"../docs/pdf/\"+row['ext_doc']+\".pdf\"", 
      "        save_txt = \"../docs/txt/\"+row['ext_doc']+\".txt\"", 
      "        urllib.urlretrieve(doc_link,save_pdf)", 
      "        cmd = \"\"\"pdftotext {pdf} {txt}\"\"\".format(pdf=save_pdf, txt=save_txt)", 
      "        os.system(cmd)", 
      "        with open(save_txt,\"rb\") as f:", 
      "            collection.insert({'link':doc_link, 'doc':f.read(), 'name':row['ext_doc'] })", 
      "    except Exception, e:", 
      "        print(e)", 
      "        pass"
     ], 
     "language": "python", 
     "outputs": [], 
     "prompt_number": 61
    }, 
    {
     "cell_type": "code", 
     "collapsed": true, 
     "input": [], 
     "language": "python", 
     "outputs": []
    }
   ]
  }
 ]
}